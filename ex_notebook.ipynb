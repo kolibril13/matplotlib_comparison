{
 "cells": [
  {
   "attachments": {},
   "cell_type": "markdown",
   "id": "b6ddc1c2",
   "metadata": {
    "cell_marker": "\"\"\"",
    "lines_to_next_cell": 0
   },
   "source": [
    "# Curve with error band\n",
    "\n",
    "This example illustrates how to draw an error band around a parametrized curve.\n",
    "\n",
    "A parametrized curve x(t), y(t) can directly be drawn using `~.Axes.plot`."
   ]
  },
  {
   "cell_type": "code",
   "execution_count": null,
   "id": "fe44d3a8",
   "metadata": {},
   "outputs": [],
   "source": [
    "# sphinx_gallery_thumbnail_number = 2\n",
    "\n",
    "import numpy as np\n",
    "\n",
    "import matplotlib.pyplot as plt\n",
    "from matplotlib.path import Path\n",
    "from matplotlib.patches import PathPatch\n",
    "\n",
    "N = 400\n",
    "t = np.linspace(0, 2 * np.pi, N)\n",
    "r = 0.5 + np.cos(t)\n",
    "x, y = r * np.cos(t), r * np.sin(t)\n",
    "\n",
    "fig, ax = plt.subplots()\n",
    "ax.plot(x, y, \"k\")\n",
    "ax.set(aspect=1)"
   ]
  },
  {
   "cell_type": "markdown",
   "id": "128f1584",
   "metadata": {
    "cell_marker": "#############################################################################"
   },
   "source": [
    "An error band can be used to indicate the uncertainty of the curve.\n",
    "In this example we assume that the error can be given as a scalar *err*\n",
    "that describes the uncertainty perpendicular to the curve in every point.\n",
    "\n",
    "We visualize this error as a colored band around the path using a\n",
    "`.PathPatch`. The patch is created from two path segments *(xp, yp)*, and\n",
    "*(xn, yn)* that are shifted by +/- *err* perpendicular to the curve *(x, y)*.\n",
    "\n",
    "Note: This method of using a `.PathPatch` is suited to arbitrary curves in\n",
    "2D. If you just have a standard y-vs.-x plot, you can use the simpler\n",
    "`~.Axes.fill_between` method (see also\n",
    ":doc:`/gallery/lines_bars_and_markers/fill_between_demo`)."
   ]
  },
  {
   "cell_type": "code",
   "execution_count": null,
   "id": "cd90eb36",
   "metadata": {},
   "outputs": [],
   "source": [
    "\n",
    "def draw_error_band(ax, x, y, err, **kwargs):\n",
    "    # Calculate normals via centered finite differences (except the first point\n",
    "    # which uses a forward difference and the last point which uses a backward\n",
    "    # difference).\n",
    "    dx = np.concatenate([[x[1] - x[0]], x[2:] - x[:-2], [x[-1] - x[-2]]])\n",
    "    dy = np.concatenate([[y[1] - y[0]], y[2:] - y[:-2], [y[-1] - y[-2]]])\n",
    "    l = np.hypot(dx, dy)\n",
    "    nx = dy / l\n",
    "    ny = -dx / l\n",
    "\n",
    "    # end points of errors\n",
    "    xp = x + nx * err\n",
    "    yp = y + ny * err\n",
    "    xn = x - nx * err\n",
    "    yn = y - ny * err\n",
    "\n",
    "    vertices = np.block([[xp, xn[::-1]],\n",
    "                         [yp, yn[::-1]]]).T\n",
    "    codes = np.full(len(vertices), Path.LINETO)\n",
    "    codes[0] = codes[len(xp)] = Path.MOVETO\n",
    "    path = Path(vertices, codes)\n",
    "    ax.add_patch(PathPatch(path, **kwargs))\n",
    "\n",
    "\n",
    "axs = (plt.figure(constrained_layout=True)\n",
    "       .subplots(1, 2, sharex=True, sharey=True))\n",
    "errs = [\n",
    "    (axs[0], \"constant error\", 0.05),\n",
    "    (axs[1], \"variable error\", 0.05 * np.sin(2 * t) ** 2 + 0.04),\n",
    "]\n",
    "for i, (ax, title, err) in enumerate(errs):\n",
    "    ax.set(title=title, aspect=1, xticks=[], yticks=[])\n",
    "    ax.plot(x, y, \"k\")\n",
    "    draw_error_band(ax, x, y, err=err,\n",
    "                    facecolor=f\"C{i}\", edgecolor=\"none\", alpha=.3)\n",
    "\n",
    "plt.show()"
   ]
  },
  {
   "cell_type": "markdown",
   "id": "ffde4753",
   "metadata": {
    "cell_marker": "#############################################################################"
   },
   "source": [
    "\n",
    ".. admonition:: References\n",
    "\n",
    "   The use of the following functions, methods, classes and modules is shown\n",
    "   in this example:\n",
    "\n",
    "   - `matplotlib.patches.PathPatch`\n",
    "   - `matplotlib.path.Path`"
   ]
  }
 ],
 "metadata": {
  "jupytext": {
   "cell_metadata_filter": "-all",
   "main_language": "python",
   "notebook_metadata_filter": "-all"
  },
  "kernelspec": {
   "display_name": "napari-env2",
   "language": "python",
   "name": "python3"
  },
  "language_info": {
   "codemirror_mode": {
    "name": "ipython",
    "version": 3
   },
   "file_extension": ".py",
   "mimetype": "text/x-python",
   "name": "python",
   "nbconvert_exporter": "python",
   "pygments_lexer": "ipython3",
   "version": "3.9.15 | packaged by conda-forge | (main, Nov 22 2022, 08:55:37) \n[Clang 14.0.6 ]"
  },
  "vscode": {
   "interpreter": {
    "hash": "2cd3521c81e0b58e855fc40c9ffefac9da8aff771d002e690402370a277b49ba"
   }
  }
 },
 "nbformat": 4,
 "nbformat_minor": 5
}
